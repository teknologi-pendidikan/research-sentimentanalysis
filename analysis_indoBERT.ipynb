{
 "cells": [
  {
   "cell_type": "code",
   "execution_count": 1,
   "metadata": {},
   "outputs": [],
   "source": [
    "from transformers import pipeline\n",
    "from transformers import AutoTokenizer, AutoModelForSequenceClassification\n",
    "\n",
    "import pandas as pd\n",
    "import numpy as np\n",
    "import re\n",
    "import string\n",
    "import nltk\n",
    "\n",
    "pretrained= \"mdhugol/indonesia-bert-sentiment-classification\"\n",
    "\n",
    "model = AutoModelForSequenceClassification.from_pretrained(pretrained)\n",
    "tokenizer = AutoTokenizer.from_pretrained(pretrained)\n",
    "\n",
    "sentiment_analysis = pipeline(\"sentiment-analysis\", model=model, tokenizer=tokenizer)"
   ]
  },
  {
   "cell_type": "code",
   "execution_count": 2,
   "metadata": {},
   "outputs": [],
   "source": [
    "\n",
    "# Load Processed Survey Data\n",
    "cleaned_survey = pd.read_csv('./data/processed_survey.csv')\n",
    "cleaned_survey.head()\n",
    "\n",
    "label_index = {'LABEL_0': 'positive', 'LABEL_1': 'neutral', 'LABEL_2': 'negative'}"
   ]
  },
  {
   "cell_type": "code",
   "execution_count": 3,
   "metadata": {},
   "outputs": [],
   "source": [
    "# Iterate over each row in the dataframe\n",
    "for index, row in cleaned_survey.iterrows():\n",
    "    # Get the text from the row\n",
    "    text = row['processed_message']\n",
    "    # Classify the text and get the label\n",
    "\n",
    "    result = sentiment_analysis(text)\n",
    "    status = label_index[result[0]['label']]\n",
    "    score = result[0]['score']\n",
    "\n",
    "    # Add the label and score to the dataframe\n",
    "    cleaned_survey.at[index, 'sentiment'] = status\n",
    "    cleaned_survey.at[index, 'sentiment_score'] = score\n",
    "\n",
    "\n",
    "# Save the dataframe to a csv file\n",
    "cleaned_survey.to_csv('./data/sentiment_survey.csv', index=False)"
   ]
  }
 ],
 "metadata": {
  "kernelspec": {
   "display_name": "base",
   "language": "python",
   "name": "python3"
  },
  "language_info": {
   "codemirror_mode": {
    "name": "ipython",
    "version": 3
   },
   "file_extension": ".py",
   "mimetype": "text/x-python",
   "name": "python",
   "nbconvert_exporter": "python",
   "pygments_lexer": "ipython3",
   "version": "3.11.5"
  }
 },
 "nbformat": 4,
 "nbformat_minor": 2
}
