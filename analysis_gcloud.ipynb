{
 "cells": [
  {
   "cell_type": "code",
   "execution_count": 2,
   "metadata": {},
   "outputs": [],
   "source": [
    "# Imports the Google Cloud client library\n",
    "from google.cloud import language_v2\n",
    "import pandas as pd\n",
    "import numpy as np\n",
    "\n",
    "# Instantiates a client\n",
    "client = language_v2.LanguageServiceClient()"
   ]
  },
  {
   "cell_type": "code",
   "execution_count": 3,
   "metadata": {},
   "outputs": [
    {
     "data": {
      "text/html": [
       "<div>\n",
       "<style scoped>\n",
       "    .dataframe tbody tr th:only-of-type {\n",
       "        vertical-align: middle;\n",
       "    }\n",
       "\n",
       "    .dataframe tbody tr th {\n",
       "        vertical-align: top;\n",
       "    }\n",
       "\n",
       "    .dataframe thead th {\n",
       "        text-align: right;\n",
       "    }\n",
       "</style>\n",
       "<table border=\"1\" class=\"dataframe\">\n",
       "  <thead>\n",
       "    <tr style=\"text-align: right;\">\n",
       "      <th></th>\n",
       "      <th>created_at</th>\n",
       "      <th>user_id</th>\n",
       "      <th>topic_id</th>\n",
       "      <th>processed_message</th>\n",
       "    </tr>\n",
       "  </thead>\n",
       "  <tbody>\n",
       "    <tr>\n",
       "      <th>0</th>\n",
       "      <td>2023-10-24</td>\n",
       "      <td>1</td>\n",
       "      <td>0</td>\n",
       "      <td>sedikit cerita mengenai apa rasakan mengerjaka...</td>\n",
       "    </tr>\n",
       "    <tr>\n",
       "      <th>1</th>\n",
       "      <td>2023-10-24</td>\n",
       "      <td>2</td>\n",
       "      <td>1</td>\n",
       "      <td>umum sangat senang mempelajari materi 3d meras...</td>\n",
       "    </tr>\n",
       "    <tr>\n",
       "      <th>2</th>\n",
       "      <td>2023-10-24</td>\n",
       "      <td>2</td>\n",
       "      <td>0</td>\n",
       "      <td>umum sangat senang mempelajari materi 3d meras...</td>\n",
       "    </tr>\n",
       "    <tr>\n",
       "      <th>3</th>\n",
       "      <td>2023-10-24</td>\n",
       "      <td>3</td>\n",
       "      <td>0</td>\n",
       "      <td>mempelajari materi terlihat seru meskipun diaw...</td>\n",
       "    </tr>\n",
       "    <tr>\n",
       "      <th>4</th>\n",
       "      <td>2023-10-24</td>\n",
       "      <td>4</td>\n",
       "      <td>1</td>\n",
       "      <td>pusing belajar blender allah  bismillah lancar...</td>\n",
       "    </tr>\n",
       "  </tbody>\n",
       "</table>\n",
       "</div>"
      ],
      "text/plain": [
       "   created_at  user_id  topic_id  \\\n",
       "0  2023-10-24        1         0   \n",
       "1  2023-10-24        2         1   \n",
       "2  2023-10-24        2         0   \n",
       "3  2023-10-24        3         0   \n",
       "4  2023-10-24        4         1   \n",
       "\n",
       "                                   processed_message  \n",
       "0  sedikit cerita mengenai apa rasakan mengerjaka...  \n",
       "1  umum sangat senang mempelajari materi 3d meras...  \n",
       "2  umum sangat senang mempelajari materi 3d meras...  \n",
       "3  mempelajari materi terlihat seru meskipun diaw...  \n",
       "4  pusing belajar blender allah  bismillah lancar...  "
      ]
     },
     "execution_count": 3,
     "metadata": {},
     "output_type": "execute_result"
    }
   ],
   "source": [
    "# Read CSV file\n",
    "survey = pd.read_csv('./data/processed_survey.csv')\n",
    "survey.head()"
   ]
  },
  {
   "cell_type": "code",
   "execution_count": 5,
   "metadata": {},
   "outputs": [],
   "source": [
    "# Iterate over each row and do sentiment analysis, limit to 10 rows\n",
    "for index, row in survey.iterrows():\n",
    "    if index > 10:\n",
    "        break\n",
    "\n",
    "    text = row['processed_message']\n",
    "    document = language_v2.types.Document(\n",
    "        content=text, type_=language_v2.types.Document.Type.PLAIN_TEXT, language_code='id',\n",
    "    )\n",
    "    sentiment = client.analyze_sentiment(\n",
    "        request={\"document\": document}\n",
    "    ).document_sentiment\n",
    "    survey.loc[index, 'sentiment_score'] = sentiment.score\n",
    "    survey.loc[index, 'sentiment_magnitude'] = sentiment.magnitude"
   ]
  }
 ],
 "metadata": {
  "kernelspec": {
   "display_name": "base",
   "language": "python",
   "name": "python3"
  },
  "language_info": {
   "codemirror_mode": {
    "name": "ipython",
    "version": 3
   },
   "file_extension": ".py",
   "mimetype": "text/x-python",
   "name": "python",
   "nbconvert_exporter": "python",
   "pygments_lexer": "ipython3",
   "version": "3.11.5"
  }
 },
 "nbformat": 4,
 "nbformat_minor": 2
}
