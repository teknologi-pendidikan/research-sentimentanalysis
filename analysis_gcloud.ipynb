{
 "cells": [
  {
   "cell_type": "code",
   "execution_count": null,
   "metadata": {},
   "outputs": [],
   "source": [
    "# Imports the Google Cloud client library\n",
    "from google.cloud import language_v2\n",
    "import pandas as pd\n",
    "import numpy as np\n",
    "\n",
    "# Instantiates a client\n",
    "client = language_v2.LanguageServiceClient()"
   ]
  },
  {
   "cell_type": "code",
   "execution_count": null,
   "metadata": {},
   "outputs": [],
   "source": [
    "# Read CSV file\n",
    "survey = pd.read_csv('./data/processed_survey.csv')\n",
    "survey.head()"
   ]
  },
  {
   "cell_type": "code",
   "execution_count": null,
   "metadata": {},
   "outputs": [],
   "source": [
    "# Iterate over each row and do sentiment analysis, limit to 10 rows\n",
    "for index, row in survey.iterrows():\n",
    "    if index > 10:\n",
    "        break\n",
    "\n",
    "    text = row['processed_message']\n",
    "    document = language_v2.types.Document(\n",
    "        content=text, type_=language_v2.types.Document.Type.PLAIN_TEXT, language_code='id',\n",
    "    )\n",
    "    sentiment = client.analyze_sentiment(\n",
    "        request={\"document\": document}\n",
    "    ).document_sentiment\n",
    "    survey.loc[index, 'sentiment_score'] = sentiment.score\n",
    "    survey.loc[index, 'sentiment_magnitude'] = sentiment.magnitude"
   ]
  }
 ],
 "metadata": {
  "kernelspec": {
   "display_name": "base",
   "language": "python",
   "name": "python3"
  },
  "language_info": {
   "codemirror_mode": {
    "name": "ipython",
    "version": 3
   },
   "file_extension": ".py",
   "mimetype": "text/x-python",
   "name": "python",
   "nbconvert_exporter": "python",
   "pygments_lexer": "ipython3",
   "version": "3.11.5"
  }
 },
 "nbformat": 4,
 "nbformat_minor": 2
}
