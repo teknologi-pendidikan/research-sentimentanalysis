{
 "cells": [
  {
   "cell_type": "code",
   "execution_count": 1,
   "metadata": {},
   "outputs": [
    {
     "data": {
      "text/plain": [
       "True"
      ]
     },
     "execution_count": 1,
     "metadata": {},
     "output_type": "execute_result"
    }
   ],
   "source": [
    "# Load Module & Environment Variables\n",
    "import psycopg2\n",
    "from dotenv import load_dotenv\n",
    "import pandas as pd\n",
    "import os\n",
    "import logging\n",
    "\n",
    "# Set up logging\n",
    "logging.basicConfig(level=logging.INFO)\n",
    "load_dotenv()"
   ]
  },
  {
   "cell_type": "code",
   "execution_count": 2,
   "metadata": {},
   "outputs": [],
   "source": [
    "# Connect to the database\n",
    "supabaseconnection = psycopg2.connect(database=os.getenv(\"SUPABASE_DATABASE\"),\n",
    "                                    host=os.getenv(\"SUPABASE_HOST\"),\n",
    "                                    user=os.getenv(\"SUPABASE_USER\"),\n",
    "                                    password=os.getenv(\"SUPABASE_PASSWORD\"),\n",
    "                                    port=os.getenv(\"SUPABASE_PORT\"))\n",
    "\n",
    "cursor = supabaseconnection.cursor()"
   ]
  },
  {
   "cell_type": "code",
   "execution_count": 3,
   "metadata": {},
   "outputs": [],
   "source": [
    "cursor.execute(\"SELECT * FROM public.survey\")\n",
    "\n",
    "column_headers = [desc[0] for desc in cursor.description]\n",
    "rows = cursor.fetchall()\n",
    "\n",
    "cursor.close()\n",
    "supabaseconnection.close()\n",
    "\n",
    "survey_raw = pd.DataFrame(rows, columns=column_headers)\n",
    "survey_raw.replace('\\n', ' ', regex=True, inplace=True)\n",
    "#survey_raw.to_csv('./data/survey_raw_db.csv', index=False)"
   ]
  },
  {
   "cell_type": "code",
   "execution_count": 4,
   "metadata": {},
   "outputs": [],
   "source": [
    "# user_id represents the user who sent the message\n",
    "# we need to anonymize this column but we need to keep the mapping\n",
    "# we can use number 1 to 150 as the replacement\n",
    "# we can store the mapping in a dictionary\n",
    "user_id_mapping = {}\n",
    "for i, user_id in enumerate(survey_raw[\"user_id\"].unique()):\n",
    "    # maximum user id is three digit, when the user id is less than 3 digit, we need to add leading zero\n",
    "    user_id_mapping[user_id] = f\"{i+1:03}\"\n",
    "\n",
    "# Apply the mapping\n",
    "survey_raw[\"user_id\"] = survey_raw[\"user_id\"].apply(lambda x: user_id_mapping[x])\n",
    "\n",
    "\n",
    "# Change the value of topic_id based on the value of topic name in the topic.csv\n",
    "topic_data = pd.DataFrame(\n",
    "    {\n",
    "        # transpose the topic.csv\n",
    "        \"id\": [\n",
    "            \"4a20c13b-37bf-4f71-80fd-1562ade45678\",\n",
    "            \"4a20c13b-37bf-4f71-80fd-1562adead5c5\",\n",
    "            \"4a20c13b-37bf-4f71-80fd-1564adead5c5\",\n",
    "            \"4a20c13b-37bf-4f71-80fd-1234adead5c5\",\n",
    "            \"1b0c0e52-a4a1-4cca-8a8d-adb8368d2bf2\",\n",
    "            \"4a20c13b-37bf-4f71-80fd-15678dead5c5\",\n",
    "            \"4a20233b-37bf-4f71-80fd-1564adead5c5\",\n",
    "            \"4a20c13b-37bf-4f71-80fd-15656dead5c5\",\n",
    "            \"4a20c13b-37bf-4f71-80fd-1514adead5c5\",\n",
    "        ],\n",
    "        \"topic_name\": [\n",
    "            \"0\",\n",
    "            \"1\",\n",
    "            \"2\",\n",
    "            \"3\",\n",
    "            \"4\",\n",
    "            \"5\",\n",
    "            \"6\",\n",
    "            \"7\",\n",
    "            \"8\",\n",
    "        ],\n",
    "    }\n",
    ")\n",
    "topic_data = topic_data[[\"id\", \"topic_name\"]]\n",
    "topic_data = topic_data.set_index(\"topic_name\")\n",
    "topic_data = topic_data.to_dict()[\"id\"]\n",
    "topic_data = {v: k for k, v in topic_data.items()}\n",
    "survey_raw[\"topic_id\"] = survey_raw[\"topic_id\"].apply(lambda x: topic_data[x])\n",
    "\n",
    "# Change created_at to yyyy-mm-dd format\n",
    "survey_raw[\"created_at\"] = pd.to_datetime(survey_raw[\"created_at\"]).dt.strftime(\n",
    "    \"%Y-%m-%d\"\n",
    ")\n",
    "# trim the date to yyyy-mm-dd format\n",
    "survey_raw[\"created_at\"] = survey_raw[\"created_at\"].str.slice(0, 10)\n",
    "\n",
    "# Delete colums id\n",
    "del survey_raw[\"id\"]"
   ]
  },
  {
   "cell_type": "code",
   "execution_count": 5,
   "metadata": {},
   "outputs": [
    {
     "name": "stderr",
     "output_type": "stream",
     "text": [
      "INFO:root:Saving survey data to 'data/survey_raw.csv'...\n",
      "INFO:root:Survey data saved successfully.\n"
     ]
    }
   ],
   "source": [
    "try:\n",
    "    # Check if the 'data' directory exists, if not, create it\n",
    "    if not os.path.exists(\"data\"):\n",
    "        logging.info(\"Creating 'data' directory...\")\n",
    "        os.makedirs(\"data\")\n",
    "\n",
    "    # Save the survey data to csv\n",
    "    logging.info(\"Saving survey data to 'data/survey_raw.csv'...\")\n",
    "    survey_raw.to_csv(\"./data/survey_raw.csv\", index=False)\n",
    "    logging.info(\"Survey data saved successfully.\")\n",
    "except Exception as e:\n",
    "    logging.error(f\"An error occurred: {str(e)}\")"
   ]
  }
 ],
 "metadata": {
  "kernelspec": {
   "display_name": "base",
   "language": "python",
   "name": "python3"
  },
  "language_info": {
   "codemirror_mode": {
    "name": "ipython",
    "version": 3
   },
   "file_extension": ".py",
   "mimetype": "text/x-python",
   "name": "python",
   "nbconvert_exporter": "python",
   "pygments_lexer": "ipython3",
   "version": "3.11.5"
  }
 },
 "nbformat": 4,
 "nbformat_minor": 2
}
