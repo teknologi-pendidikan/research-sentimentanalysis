{
 "cells": [
  {
   "cell_type": "code",
   "execution_count": 1,
   "metadata": {},
   "outputs": [],
   "source": [
    "# Imports the Google Cloud client library\n",
    "from google.cloud import language_v2\n",
    "import pandas as pd\n",
    "import numpy as np\n",
    "\n",
    "# Instantiates a client\n",
    "client = language_v2.LanguageServiceClient()"
   ]
  },
  {
   "cell_type": "code",
   "execution_count": 2,
   "metadata": {},
   "outputs": [
    {
     "data": {
      "text/html": [
       "<div>\n",
       "<style scoped>\n",
       "    .dataframe tbody tr th:only-of-type {\n",
       "        vertical-align: middle;\n",
       "    }\n",
       "\n",
       "    .dataframe tbody tr th {\n",
       "        vertical-align: top;\n",
       "    }\n",
       "\n",
       "    .dataframe thead th {\n",
       "        text-align: right;\n",
       "    }\n",
       "</style>\n",
       "<table border=\"1\" class=\"dataframe\">\n",
       "  <thead>\n",
       "    <tr style=\"text-align: right;\">\n",
       "      <th></th>\n",
       "      <th>created_at</th>\n",
       "      <th>user_id</th>\n",
       "      <th>topic_id</th>\n",
       "      <th>stemmed_message</th>\n",
       "    </tr>\n",
       "  </thead>\n",
       "  <tbody>\n",
       "    <tr>\n",
       "      <th>0</th>\n",
       "      <td>2023-10-24</td>\n",
       "      <td>1</td>\n",
       "      <td>0</td>\n",
       "      <td>cerita rasa tugas dimensi pesimis tugas sanggu...</td>\n",
       "    </tr>\n",
       "    <tr>\n",
       "      <th>1</th>\n",
       "      <td>2023-10-24</td>\n",
       "      <td>2</td>\n",
       "      <td>1</td>\n",
       "      <td>senang ajar materi 3d materi tarik manfaat suk...</td>\n",
       "    </tr>\n",
       "    <tr>\n",
       "      <th>2</th>\n",
       "      <td>2023-10-24</td>\n",
       "      <td>2</td>\n",
       "      <td>0</td>\n",
       "      <td>senang ajar materi 3d materi tarik manfaat suk...</td>\n",
       "    </tr>\n",
       "    <tr>\n",
       "      <th>3</th>\n",
       "      <td>2023-10-24</td>\n",
       "      <td>3</td>\n",
       "      <td>0</td>\n",
       "      <td>ajar materi seru awal susah basic web damping ...</td>\n",
       "    </tr>\n",
       "    <tr>\n",
       "      <th>4</th>\n",
       "      <td>2023-10-24</td>\n",
       "      <td>4</td>\n",
       "      <td>1</td>\n",
       "      <td>pusing ajar blender ya allah bismillah lancar ...</td>\n",
       "    </tr>\n",
       "  </tbody>\n",
       "</table>\n",
       "</div>"
      ],
      "text/plain": [
       "   created_at  user_id  topic_id  \\\n",
       "0  2023-10-24        1         0   \n",
       "1  2023-10-24        2         1   \n",
       "2  2023-10-24        2         0   \n",
       "3  2023-10-24        3         0   \n",
       "4  2023-10-24        4         1   \n",
       "\n",
       "                                     stemmed_message  \n",
       "0  cerita rasa tugas dimensi pesimis tugas sanggu...  \n",
       "1  senang ajar materi 3d materi tarik manfaat suk...  \n",
       "2  senang ajar materi 3d materi tarik manfaat suk...  \n",
       "3  ajar materi seru awal susah basic web damping ...  \n",
       "4  pusing ajar blender ya allah bismillah lancar ...  "
      ]
     },
     "execution_count": 2,
     "metadata": {},
     "output_type": "execute_result"
    }
   ],
   "source": [
    "# Read CSV file\n",
    "survey = pd.read_csv(\"./data/survey_clean_stemmed.csv\")\n",
    "survey.head()"
   ]
  },
  {
   "cell_type": "code",
   "execution_count": 3,
   "metadata": {},
   "outputs": [
    {
     "name": "stdout",
     "output_type": "stream",
     "text": [
      "Error at index 319: 500 Internal error encountered.\n",
      "Error at index 426: 500 Internal error encountered.\n",
      "Error at index 430: 500 Internal error encountered.\n",
      "Error at index 544: 500 Internal error encountered.\n"
     ]
    }
   ],
   "source": [
    "# Iterate over each row and do sentiment analysis\n",
    "for index, row in survey.iterrows():\n",
    "    try:\n",
    "        text = row[\"stemmed_message\"]\n",
    "        document = language_v2.types.Document(\n",
    "            content=text,\n",
    "            type_=language_v2.types.Document.Type.PLAIN_TEXT,\n",
    "            language_code=\"id\",\n",
    "        )\n",
    "        sentiment = client.analyze_sentiment(\n",
    "            request={\"document\": document}\n",
    "        ).document_sentiment\n",
    "        survey.loc[index, \"sentiment_score\"] = sentiment.score\n",
    "        survey.loc[index, \"sentiment_magnitude\"] = sentiment.magnitude\n",
    "\n",
    "        # add new column for sentiment label, above 0 is positive, below 0 is negative\n",
    "        if sentiment.score > 0:\n",
    "            survey.loc[index, \"sentiment_label\"] = \"positive\"\n",
    "        else:\n",
    "            survey.loc[index, \"sentiment_label\"] = \"negative\"\n",
    "    except Exception as e:\n",
    "        print(f\"Error at index {index}: {e}\")\n",
    "        continue"
   ]
  },
  {
   "cell_type": "code",
   "execution_count": 4,
   "metadata": {},
   "outputs": [
    {
     "name": "stdout",
     "output_type": "stream",
     "text": [
      "File saved successfully to ./data/survey_clean_stemmed_sentiment_googleNLP.csv\n"
     ]
    }
   ],
   "source": [
    "import os\n",
    "\n",
    "# Define the file path\n",
    "file_path = \"./data/survey_clean_stemmed_sentiment_googleNLP.csv\"\n",
    "\n",
    "# Check if the directory exists\n",
    "directory = os.path.dirname(file_path)\n",
    "if not os.path.exists(directory):\n",
    "    os.makedirs(directory)\n",
    "\n",
    "# Try to write the file\n",
    "try:\n",
    "    survey.to_csv(file_path, index=False)\n",
    "    print(f\"File saved successfully to {file_path}\")\n",
    "except Exception as e:\n",
    "    print(f\"Failed to write file to {file_path}. Error: {e}\")"
   ]
  }
 ],
 "metadata": {
  "kernelspec": {
   "display_name": "base",
   "language": "python",
   "name": "python3"
  },
  "language_info": {
   "codemirror_mode": {
    "name": "ipython",
    "version": 3
   },
   "file_extension": ".py",
   "mimetype": "text/x-python",
   "name": "python",
   "nbconvert_exporter": "python",
   "pygments_lexer": "ipython3",
   "version": "3.11.7"
  }
 },
 "nbformat": 4,
 "nbformat_minor": 2
}
