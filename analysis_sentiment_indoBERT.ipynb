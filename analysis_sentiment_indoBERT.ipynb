{
 "cells": [
  {
   "cell_type": "code",
   "execution_count": 1,
   "metadata": {},
   "outputs": [],
   "source": [
    "from transformers import pipeline\n",
    "from transformers import AutoTokenizer, AutoModelForSequenceClassification\n",
    "\n",
    "import pandas as pd\n",
    "import numpy as np\n",
    "import re\n",
    "import string\n",
    "import nltk\n",
    "\n",
    "pretrained= \"mdhugol/indonesia-bert-sentiment-classification\"\n",
    "\n",
    "model = AutoModelForSequenceClassification.from_pretrained(pretrained)\n",
    "tokenizer = AutoTokenizer.from_pretrained(pretrained)\n",
    "\n",
    "sentiment_analysis = pipeline(\"sentiment-analysis\", model=model, tokenizer=tokenizer)"
   ]
  },
  {
   "cell_type": "code",
   "execution_count": 2,
   "metadata": {},
   "outputs": [],
   "source": [
    "# Load Processed Survey Data\n",
    "cleaned_survey = pd.read_csv('./data/survey_clean_stemmed.csv')\n",
    "cleaned_survey.head()\n",
    "\n",
    "label_index = {'LABEL_0': 'positive', 'LABEL_1': 'neutral', 'LABEL_2': 'negative'}"
   ]
  },
  {
   "cell_type": "code",
   "execution_count": 3,
   "metadata": {},
   "outputs": [],
   "source": [
    "# Iterate over each row in the dataframe\n",
    "for index, row in cleaned_survey.iterrows():\n",
    "    try:\n",
    "        # Get the text from the row\n",
    "        text = row[\"stemmed_message\"]\n",
    "        # Classify the text and get the label\n",
    "        result = sentiment_analysis(text)\n",
    "        status = label_index[result[0][\"label\"]]\n",
    "        score = result[0][\"score\"]\n",
    "\n",
    "        # Add the label and score to the dataframe\n",
    "        cleaned_survey.at[index, \"sentiment\"] = status\n",
    "        cleaned_survey.at[index, \"sentiment_score\"] = score\n",
    "    except Exception as e:\n",
    "        print(f\"Error at index {index}: {e}\")\n",
    "        continue"
   ]
  },
  {
   "cell_type": "code",
   "execution_count": 4,
   "metadata": {},
   "outputs": [
    {
     "name": "stdout",
     "output_type": "stream",
     "text": [
      "File saved successfully to ./data/survey_clean_stemmed_sentiment_indoBERT.csv\n"
     ]
    }
   ],
   "source": [
    "import os\n",
    "\n",
    "# Define the file path\n",
    "file_path = \"./data/survey_clean_stemmed_sentiment_indoBERT.csv\"\n",
    "\n",
    "# Check if the directory exists\n",
    "directory = os.path.dirname(file_path)\n",
    "if not os.path.exists(directory):\n",
    "    os.makedirs(directory)\n",
    "\n",
    "# Try to write the file\n",
    "try:\n",
    "    cleaned_survey.to_csv(file_path, index=False)\n",
    "    print(f\"File saved successfully to {file_path}\")\n",
    "except Exception as e:\n",
    "    print(f\"Failed to write file to {file_path}. Error: {e}\")"
   ]
  }
 ],
 "metadata": {
  "kernelspec": {
   "display_name": "base",
   "language": "python",
   "name": "python3"
  },
  "language_info": {
   "codemirror_mode": {
    "name": "ipython",
    "version": 3
   },
   "file_extension": ".py",
   "mimetype": "text/x-python",
   "name": "python",
   "nbconvert_exporter": "python",
   "pygments_lexer": "ipython3",
   "version": "3.11.7"
  }
 },
 "nbformat": 4,
 "nbformat_minor": 2
}
