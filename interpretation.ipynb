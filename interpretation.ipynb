{
 "cells": [
  {
   "cell_type": "code",
   "execution_count": null,
   "metadata": {},
   "outputs": [],
   "source": [
    "# sentimen score are from -1 to 1, -1 is negative, 1 is positive, the higher the more positive\n",
    "# magnitude is from 0 to infinity, the higher the more emotional. Its not related to positive or negative. It have correlation with the length of the text, the longer the more emotional.\n",
    "# https://cloud.google.com/natural-language/docs/basics#interpreting_sentiment_analysis_values\n",
    "\n",
    "# Does we need to normalize the magnitude?"
   ]
  }
 ],
 "metadata": {
  "language_info": {
   "name": "python"
  }
 },
 "nbformat": 4,
 "nbformat_minor": 2
}
